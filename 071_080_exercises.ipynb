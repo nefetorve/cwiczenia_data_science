{
  "nbformat": 4,
  "nbformat_minor": 0,
  "metadata": {
    "colab": {
      "name": "071-080_exercises.ipynb",
      "provenance": [],
      "collapsed_sections": [],
      "include_colab_link": true
    },
    "kernelspec": {
      "name": "python3",
      "display_name": "Python 3"
    }
  },
  "cells": [
    {
      "cell_type": "markdown",
      "metadata": {
        "id": "view-in-github",
        "colab_type": "text"
      },
      "source": [
        "<a href=\"https://colab.research.google.com/github/nefetorve/cwiczenia_data_science/blob/master/071_080_exercises.ipynb\" target=\"_parent\"><img src=\"https://colab.research.google.com/assets/colab-badge.svg\" alt=\"Open In Colab\"/></a>"
      ]
    },
    {
      "cell_type": "markdown",
      "metadata": {
        "id": "WLEgCW5F1hho"
      },
      "source": [
        "## Numpy\n",
        "\n",
        "### Spis treści:\n",
        "* [Import biblioteki](#0)\n",
        "* [Ćwiczenie 71](#1)\n",
        "* [Ćwiczenie 72](#2)\n",
        "* [Ćwiczenie 73](#3)\n",
        "* [Ćwiczenie 74](#4)\n",
        "* [Ćwiczenie 75](#5)\n",
        "* [Ćwiczenie 76](#6)\n",
        "* [Ćwiczenie 77](#7)\n",
        "* [Ćwiczenie 78](#8)\n",
        "* [Ćwiczenie 79](#9)\n",
        "* [Ćwiczenie 80](#10)"
      ]
    },
    {
      "cell_type": "markdown",
      "metadata": {
        "id": "zeLOLmTj1kBM"
      },
      "source": [
        "### <a name='0'></a>Import biblioteki"
      ]
    },
    {
      "cell_type": "code",
      "metadata": {
        "id": "HXMB7SMe1Wnz",
        "outputId": "6326ebbb-4ee5-43c4-b485-e2d09eb45255",
        "colab": {
          "base_uri": "https://localhost:8080/",
          "height": 35
        }
      },
      "source": [
        "import numpy as np\n",
        "\n",
        "np.random.seed(42)\n",
        "np.__version__"
      ],
      "execution_count": 229,
      "outputs": [
        {
          "output_type": "execute_result",
          "data": {
            "application/vnd.google.colaboratory.intrinsic+json": {
              "type": "string"
            },
            "text/plain": [
              "'1.18.5'"
            ]
          },
          "metadata": {
            "tags": []
          },
          "execution_count": 229
        }
      ]
    },
    {
      "cell_type": "markdown",
      "metadata": {
        "id": "cyc70pMe1oCg"
      },
      "source": [
        "### <a name='1'></a> Ćwiczenie 71\n",
        "Podana jest poniższa tablica $A$:\n",
        "\n",
        "```\n",
        "A = np.array([['id', 'price'],\n",
        "              ['001', 14.99],\n",
        "              ['002', 4.99],\n",
        "              ['003', 7.99],\n",
        "              ['004', 2.49],\n",
        "              ['005', 1.49]])\n",
        "```\n",
        "Od drugiego wiersza tablicy $A$ przestaw losowo wiersze w tablicy.\n",
        "\n",
        "__Wskazówka:__ Użyj funkcji _np.random.shuffle()_.\n"
      ]
    },
    {
      "cell_type": "code",
      "metadata": {
        "id": "RFIhGhiJtLW5"
      },
      "source": [
        "A = np.array([['id', 'price'],\n",
        "              ['001', 14.99],\n",
        "              ['002', 4.99],\n",
        "              ['003', 7.99],\n",
        "              ['004', 2.49],\n",
        "              ['005', 1.49]])\n"
      ],
      "execution_count": 230,
      "outputs": []
    },
    {
      "cell_type": "code",
      "metadata": {
        "id": "2oEXzKgya8A_",
        "outputId": "3bfebe64-c606-40fc-b0eb-0d575631adc6",
        "colab": {
          "base_uri": "https://localhost:8080/",
          "height": 87
        }
      },
      "source": [
        "A[1:5,:]"
      ],
      "execution_count": 231,
      "outputs": [
        {
          "output_type": "execute_result",
          "data": {
            "text/plain": [
              "array([['001', '14.99'],\n",
              "       ['002', '4.99'],\n",
              "       ['003', '7.99'],\n",
              "       ['004', '2.49']], dtype='<U5')"
            ]
          },
          "metadata": {
            "tags": []
          },
          "execution_count": 231
        }
      ]
    },
    {
      "cell_type": "code",
      "metadata": {
        "id": "JDHvxsbXaTb4",
        "outputId": "cf4df014-a402-4368-a432-8cd74b7bf3ee",
        "colab": {
          "base_uri": "https://localhost:8080/",
          "height": 123
        }
      },
      "source": [
        "np.random.shuffle(A[1:5,:])\n",
        "A"
      ],
      "execution_count": 232,
      "outputs": [
        {
          "output_type": "execute_result",
          "data": {
            "text/plain": [
              "array([['id', 'price'],\n",
              "       ['002', '4.99'],\n",
              "       ['004', '2.49'],\n",
              "       ['001', '14.99'],\n",
              "       ['003', '7.99'],\n",
              "       ['005', '1.49']], dtype='<U5')"
            ]
          },
          "metadata": {
            "tags": []
          },
          "execution_count": 232
        }
      ]
    },
    {
      "cell_type": "markdown",
      "metadata": {
        "id": "J9pY1rtr1sC0"
      },
      "source": [
        "### <a name='2'></a> Ćwiczenie 72\n",
        "Podana jest poniższa tablica $A$:\n",
        "\n",
        "```\n",
        "A = np.array([0.2, 0.15, 0.1, 0.3, 0.2, 0.05])\n",
        "```\n",
        "Zwróć tablicę indeksów, które posortują tablicę $A$ rosnąco.\n",
        "\n",
        "__Oczekiwny wynik:__\n",
        "\n",
        "\n",
        "```\n",
        "array([5, 2, 1, 0, 4, 3])\n",
        "```\n",
        "__Wskazówka:__ Użyj funkcji _np.argsort()_.\n",
        "\n"
      ]
    },
    {
      "cell_type": "code",
      "metadata": {
        "id": "JXEkxNh_wAwB",
        "outputId": "a7c51a70-3532-480c-8b85-ce9ae5064b03",
        "colab": {
          "base_uri": "https://localhost:8080/",
          "height": 34
        }
      },
      "source": [
        "A = np.array([0.2, 0.15, 0.1, 0.3, 0.2, 0.05])\n",
        "np.argsort(A)"
      ],
      "execution_count": 233,
      "outputs": [
        {
          "output_type": "execute_result",
          "data": {
            "text/plain": [
              "array([5, 2, 1, 0, 4, 3])"
            ]
          },
          "metadata": {
            "tags": []
          },
          "execution_count": 233
        }
      ]
    },
    {
      "cell_type": "markdown",
      "metadata": {
        "id": "XQLYT2m11wVG"
      },
      "source": [
        "### <a name='3'></a> Ćwiczenie 73\n",
        "Podana jest poniższa tablica $A$:\n",
        "\n",
        "```\n",
        "A = np.random.randn(10, 8)\n",
        "```\n",
        "\n",
        "Zaokrąglij wartości tej tablicy do trzeciego miejsca po przecinku.\n",
        "\n",
        "__Wskazówka:__ Użyj funkcji _np.round()_."
      ]
    },
    {
      "cell_type": "code",
      "metadata": {
        "id": "oh4E35mU0ikP",
        "outputId": "794398b7-91db-4c3d-e04a-8b2f1b4905d8",
        "colab": {
          "base_uri": "https://localhost:8080/",
          "height": 194
        }
      },
      "source": [
        "A = np.random.randn(10, 8)\n",
        "\n",
        "np.round(A,3)"
      ],
      "execution_count": 234,
      "outputs": [
        {
          "output_type": "execute_result",
          "data": {
            "text/plain": [
              "array([[ 0.648,  1.523, -0.234, -0.234,  1.579,  0.767, -0.469,  0.543],\n",
              "       [-0.463, -0.466,  0.242, -1.913, -1.725, -0.562, -1.013,  0.314],\n",
              "       [-0.908, -1.412,  1.466, -0.226,  0.068, -1.425, -0.544,  0.111],\n",
              "       [-1.151,  0.376, -0.601, -0.292, -0.602,  1.852, -0.013, -1.058],\n",
              "       [ 0.823, -1.221,  0.209, -1.96 , -1.328,  0.197,  0.738,  0.171],\n",
              "       [-0.116, -0.301, -1.479, -0.72 , -0.461,  1.057,  0.344, -1.763],\n",
              "       [ 0.324, -0.385, -0.677,  0.612,  1.031,  0.931, -0.839, -0.309],\n",
              "       [ 0.331,  0.976, -0.479, -0.186, -1.106, -1.196,  0.813,  1.356],\n",
              "       [-0.072,  1.004,  0.362, -0.645,  0.361,  1.538, -0.036,  1.565],\n",
              "       [-2.62 ,  0.822,  0.087, -0.299,  0.092, -1.988, -0.22 ,  0.357]])"
            ]
          },
          "metadata": {
            "tags": []
          },
          "execution_count": 234
        }
      ]
    },
    {
      "cell_type": "markdown",
      "metadata": {
        "id": "4xTKSUzg10MK"
      },
      "source": [
        "### <a name='4'></a> Ćwiczenie 74\n",
        "Wyznacz pierwiastki wielomianu:\n",
        "* $W(x) = 4x^2 + 5x + 1$\n",
        "\n",
        "\n",
        "__Wskazówka:__ Użyj funkcji _np.roots()_ oraz _np.polyval()_."
      ]
    },
    {
      "cell_type": "markdown",
      "metadata": {
        "id": "YDKyTjl59GcT"
      },
      "source": [
        "Dokonaj sprawdzenia."
      ]
    },
    {
      "cell_type": "code",
      "metadata": {
        "id": "RjwHkYO86qeM",
        "outputId": "53c10c8e-992c-438e-9a7e-77bd2811e26f",
        "colab": {
          "base_uri": "https://localhost:8080/",
          "height": 34
        }
      },
      "source": [
        "x = np.roots([4,5,1])\n",
        "x"
      ],
      "execution_count": 235,
      "outputs": [
        {
          "output_type": "execute_result",
          "data": {
            "text/plain": [
              "array([-1.  , -0.25])"
            ]
          },
          "metadata": {
            "tags": []
          },
          "execution_count": 235
        }
      ]
    },
    {
      "cell_type": "code",
      "metadata": {
        "id": "8ryP41w78rvf",
        "outputId": "aecc8834-ff99-4795-da51-87358bccace5",
        "colab": {
          "base_uri": "https://localhost:8080/",
          "height": 34
        }
      },
      "source": [
        "np.polyval([4,5,1],x)"
      ],
      "execution_count": 236,
      "outputs": [
        {
          "output_type": "execute_result",
          "data": {
            "text/plain": [
              "array([0., 0.])"
            ]
          },
          "metadata": {
            "tags": []
          },
          "execution_count": 236
        }
      ]
    },
    {
      "cell_type": "markdown",
      "metadata": {
        "id": "o3HKIKlP15Ro"
      },
      "source": [
        "### <a name='5'></a> Ćwiczenie 75\n",
        "Wyznacz pierwiastki wielomianów:\n",
        "* $Q(x) = 2x^3 + 4x^2 -5x + 1$\n",
        "* $R(x) = 2x^3 -5x + 1$\n",
        "\n",
        "__Wskazówka:__ Użyj funkcji _np.roots()_."
      ]
    },
    {
      "cell_type": "code",
      "metadata": {
        "id": "Kxjx96O57wTY",
        "outputId": "e586a312-768d-4868-e4ea-ef1339ee7d23",
        "colab": {
          "base_uri": "https://localhost:8080/",
          "height": 52
        }
      },
      "source": [
        "Q = np.roots([2,4,-5,1])\n",
        "R = np.roots([2,0,-5,1])\n",
        "\n",
        "print(Q)\n",
        "print(R)"
      ],
      "execution_count": 237,
      "outputs": [
        {
          "output_type": "stream",
          "text": [
            "[-2.91610583  0.65388685  0.26221898]\n",
            "[-1.67298165  1.46961743  0.20336421]\n"
          ],
          "name": "stdout"
        }
      ]
    },
    {
      "cell_type": "markdown",
      "metadata": {
        "id": "PunXd_Ey16so"
      },
      "source": [
        "### <a name='6'></a> Ćwiczenie 76\n",
        "Podane są wielomiany:\n",
        "\n",
        "* $W(x) = 4x^2 + 5x + 1$\n",
        "* $Q(x) = 2x^3 + 4x^2 -5x + 1$\n"
      ]
    },
    {
      "cell_type": "code",
      "metadata": {
        "id": "D-XbUU9Nln5y"
      },
      "source": [
        "W = np.array([4, 5, 1])\n",
        "Q = np.array([2, 4, -5, 1])"
      ],
      "execution_count": 238,
      "outputs": []
    },
    {
      "cell_type": "markdown",
      "metadata": {
        "id": "vYiT4ikklqaQ"
      },
      "source": [
        "Wykonaj działania:\n",
        "* $W(x) + Q(x)$"
      ]
    },
    {
      "cell_type": "code",
      "metadata": {
        "id": "9JKvun7C9raH",
        "outputId": "9df6f1e0-5209-4473-a2be-93d744eb6371",
        "colab": {
          "base_uri": "https://localhost:8080/",
          "height": 34
        }
      },
      "source": [
        "from numpy.polynomial import polynomial as P\n",
        "\n",
        "P.polyadd(W,Q)"
      ],
      "execution_count": 239,
      "outputs": [
        {
          "output_type": "execute_result",
          "data": {
            "text/plain": [
              "array([ 6.,  9., -4.,  1.])"
            ]
          },
          "metadata": {
            "tags": []
          },
          "execution_count": 239
        }
      ]
    },
    {
      "cell_type": "markdown",
      "metadata": {
        "id": "f6qXMj30lhrn"
      },
      "source": [
        "* $W(x) - Q(x)$\n"
      ]
    },
    {
      "cell_type": "code",
      "metadata": {
        "id": "HFlLC37f94Lr",
        "outputId": "79cd1795-780a-4a41-80fa-e62b4e0c99f7",
        "colab": {
          "base_uri": "https://localhost:8080/",
          "height": 34
        }
      },
      "source": [
        "P.polysub(W,Q)"
      ],
      "execution_count": 240,
      "outputs": [
        {
          "output_type": "execute_result",
          "data": {
            "text/plain": [
              "array([ 2.,  1.,  6., -1.])"
            ]
          },
          "metadata": {
            "tags": []
          },
          "execution_count": 240
        }
      ]
    },
    {
      "cell_type": "markdown",
      "metadata": {
        "id": "o8xnmuwfljHU"
      },
      "source": [
        "* $W(x) * Q(x)$\n"
      ]
    },
    {
      "cell_type": "code",
      "metadata": {
        "id": "Z4B28oMe-p8J",
        "outputId": "5fbee7a6-b3eb-4a3d-d581-b74e0a7c7dca",
        "colab": {
          "base_uri": "https://localhost:8080/",
          "height": 34
        }
      },
      "source": [
        "P.polymul(W,Q)"
      ],
      "execution_count": 241,
      "outputs": [
        {
          "output_type": "execute_result",
          "data": {
            "text/plain": [
              "array([  8.,  26.,   2., -17.,   0.,   1.])"
            ]
          },
          "metadata": {
            "tags": []
          },
          "execution_count": 241
        }
      ]
    },
    {
      "cell_type": "markdown",
      "metadata": {
        "id": "BIHBf0PllkXe"
      },
      "source": [
        "* $W(x) + 2Q(x)$"
      ]
    },
    {
      "cell_type": "code",
      "metadata": {
        "id": "UbaoDx6E-90V",
        "outputId": "504050c1-3b0d-468f-916f-332eeb36ca07",
        "colab": {
          "base_uri": "https://localhost:8080/",
          "height": 34
        }
      },
      "source": [
        "P.polyadd(W,2*Q)"
      ],
      "execution_count": 242,
      "outputs": [
        {
          "output_type": "execute_result",
          "data": {
            "text/plain": [
              "array([ 8., 13., -9.,  2.])"
            ]
          },
          "metadata": {
            "tags": []
          },
          "execution_count": 242
        }
      ]
    },
    {
      "cell_type": "markdown",
      "metadata": {
        "id": "hOhqDRz618Tx"
      },
      "source": [
        "### <a name='7'></a> Ćwiczenie 77\n",
        "Podana jest poniższa tablica:\n",
        "\n",
        "```\n",
        "A = np.array([[-4, 3, 0, 1, -5],\n",
        "              [6, -4, -2, 1, 3]])\n",
        "```\n",
        "\n",
        "Użyj funkcji znaku (_sign function_) dla tablicy $A$. Dla przypomnienia funkcja działa nastpująco: dla wartości ujemnych zwraca -1, dla zera wartość zero, dla wartości dodatnich 1.\n",
        "\n",
        "__Oczekiwany wynik:__\n",
        "\n",
        "\n",
        "```\n",
        "array([[-1,  1,  0,  1, -1],\n",
        "       [ 1, -1, -1,  1,  1]])\n",
        "```\n",
        "__Wskazówka:__ Użyj funkcji _np.sign()_.\n"
      ]
    },
    {
      "cell_type": "code",
      "metadata": {
        "id": "bo-L_-_1AF0o",
        "outputId": "1592a7bd-df99-4131-9432-dcb924a465f1",
        "colab": {
          "base_uri": "https://localhost:8080/",
          "height": 52
        }
      },
      "source": [
        "A = np.array([[-4, 3, 0, 1, -5],\n",
        "              [6, -4, -2, 1, 3]])\n",
        "\n",
        "np.sign(A)"
      ],
      "execution_count": 243,
      "outputs": [
        {
          "output_type": "execute_result",
          "data": {
            "text/plain": [
              "array([[-1,  1,  0,  1, -1],\n",
              "       [ 1, -1, -1,  1,  1]])"
            ]
          },
          "metadata": {
            "tags": []
          },
          "execution_count": 243
        }
      ]
    },
    {
      "cell_type": "markdown",
      "metadata": {
        "id": "TXUd_4631-gw"
      },
      "source": [
        "### <a name='8'></a> Ćwiczenie 78\n",
        "Wykorzystując funkcję _np.arange()_ wygeneruj poniższą tablicę:\n",
        "\n",
        "\n",
        "```\n",
        "array(['2021-01-01', '2021-01-02', '2021-01-03', '2021-01-04',\n",
        "       '2021-01-05', '2021-01-06', '2021-01-07', '2021-01-08',\n",
        "       '2021-01-09', '2021-01-10', '2021-01-11', '2021-01-12',\n",
        "       '2021-01-13', '2021-01-14', '2021-01-15', '2021-01-16',\n",
        "       '2021-01-17', '2021-01-18', '2021-01-19', '2021-01-20',\n",
        "       '2021-01-21', '2021-01-22', '2021-01-23', '2021-01-24',\n",
        "       '2021-01-25', '2021-01-26', '2021-01-27', '2021-01-28',\n",
        "       '2021-01-29', '2021-01-30', '2021-01-31'], dtype='datetime64[D]')\n",
        "```\n",
        "\n"
      ]
    },
    {
      "cell_type": "code",
      "metadata": {
        "id": "oAdYOzbJDFmv",
        "outputId": "42b03e4f-ea07-4c61-8032-4a7331939355",
        "colab": {
          "base_uri": "https://localhost:8080/",
          "height": 158
        }
      },
      "source": [
        "from datetime import datetime, timedelta\n",
        "\n",
        "np.arange(np.datetime64('2021-01-01'), np.datetime64('2021-02-01'))"
      ],
      "execution_count": 244,
      "outputs": [
        {
          "output_type": "execute_result",
          "data": {
            "text/plain": [
              "array(['2021-01-01', '2021-01-02', '2021-01-03', '2021-01-04',\n",
              "       '2021-01-05', '2021-01-06', '2021-01-07', '2021-01-08',\n",
              "       '2021-01-09', '2021-01-10', '2021-01-11', '2021-01-12',\n",
              "       '2021-01-13', '2021-01-14', '2021-01-15', '2021-01-16',\n",
              "       '2021-01-17', '2021-01-18', '2021-01-19', '2021-01-20',\n",
              "       '2021-01-21', '2021-01-22', '2021-01-23', '2021-01-24',\n",
              "       '2021-01-25', '2021-01-26', '2021-01-27', '2021-01-28',\n",
              "       '2021-01-29', '2021-01-30', '2021-01-31'], dtype='datetime64[D]')"
            ]
          },
          "metadata": {
            "tags": []
          },
          "execution_count": 244
        }
      ]
    },
    {
      "cell_type": "markdown",
      "metadata": {
        "id": "tgI6xEn-2AQo"
      },
      "source": [
        "\n",
        "### <a name='9'></a> Ćwiczenie 79\n",
        "\n",
        "Wykorzystując funkcję _np.arange()_ wygeneruj poniższą tablicę:\n",
        "\n",
        "\n",
        "\n",
        "```\n",
        "array([['2021-01', '2021-02', '2021-03'],\n",
        "       ['2021-04', '2021-05', '2021-06'],\n",
        "       ['2021-07', '2021-08', '2021-09'],\n",
        "       ['2021-10', '2021-11', '2021-12']], dtype='datetime64[M]')\n",
        "```\n",
        "\n"
      ]
    },
    {
      "cell_type": "code",
      "metadata": {
        "id": "oJRlRIThDehG",
        "outputId": "75a560c1-f03e-47fc-8fe1-6a597acc1461",
        "colab": {
          "base_uri": "https://localhost:8080/",
          "height": 70
        }
      },
      "source": [
        "from datetime import datetime, timedelta\n",
        "\n",
        "np.arange(np.datetime64('2021-01'), np.datetime64('2022-01'),dtype='datetime64[M]')"
      ],
      "execution_count": 245,
      "outputs": [
        {
          "output_type": "execute_result",
          "data": {
            "text/plain": [
              "array(['2021-01', '2021-02', '2021-03', '2021-04', '2021-05', '2021-06',\n",
              "       '2021-07', '2021-08', '2021-09', '2021-10', '2021-11', '2021-12'],\n",
              "      dtype='datetime64[M]')"
            ]
          },
          "metadata": {
            "tags": []
          },
          "execution_count": 245
        }
      ]
    },
    {
      "cell_type": "markdown",
      "metadata": {
        "id": "wxhpf-uq2B1I"
      },
      "source": [
        "### <a name='10'></a> Ćwiczenie 80\n",
        "\n",
        "Wykorzystując funkcję _np.datetime64()_ wygeneruj dzisiejszą datę (datę w chwili robienia ćwiczenia)."
      ]
    },
    {
      "cell_type": "code",
      "metadata": {
        "id": "YFc0KW6URsuc",
        "outputId": "e8e28f94-8e51-4a6f-9ce0-3a481242e266",
        "colab": {
          "base_uri": "https://localhost:8080/",
          "height": 34
        }
      },
      "source": [
        "now = np.datetime64(datetime.now())\n",
        "now"
      ],
      "execution_count": 247,
      "outputs": [
        {
          "output_type": "execute_result",
          "data": {
            "text/plain": [
              "numpy.datetime64('2020-09-30T12:06:12.323482')"
            ]
          },
          "metadata": {
            "tags": []
          },
          "execution_count": 247
        }
      ]
    },
    {
      "cell_type": "code",
      "metadata": {
        "id": "iTSns7jRjG5G"
      },
      "source": [
        ""
      ],
      "execution_count": 246,
      "outputs": []
    }
  ]
}
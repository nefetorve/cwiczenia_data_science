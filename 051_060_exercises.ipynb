{
  "nbformat": 4,
  "nbformat_minor": 0,
  "metadata": {
    "colab": {
      "name": "051-060_exercises.ipynb",
      "provenance": [],
      "collapsed_sections": [],
      "include_colab_link": true
    },
    "kernelspec": {
      "name": "python3",
      "display_name": "Python 3"
    }
  },
  "cells": [
    {
      "cell_type": "markdown",
      "metadata": {
        "id": "view-in-github",
        "colab_type": "text"
      },
      "source": [
        "<a href=\"https://colab.research.google.com/github/nefetorve/cwiczenia_data_science/blob/master/051_060_exercises.ipynb\" target=\"_parent\"><img src=\"https://colab.research.google.com/assets/colab-badge.svg\" alt=\"Open In Colab\"/></a>"
      ]
    },
    {
      "cell_type": "markdown",
      "metadata": {
        "id": "WLEgCW5F1hho"
      },
      "source": [
        "## Numpy\n",
        "\n",
        "### Spis treści:\n",
        "* [Import biblioteki](#0)\n",
        "* [Ćwiczenie 51](#1)\n",
        "* [Ćwiczenie 52](#2)\n",
        "* [Ćwiczenie 53](#3)\n",
        "* [Ćwiczenie 54](#4)\n",
        "* [Ćwiczenie 55](#5)\n",
        "* [Ćwiczenie 56](#6)\n",
        "* [Ćwiczenie 57](#7)\n",
        "* [Ćwiczenie 58](#8)\n",
        "* [Ćwiczenie 59](#9)\n",
        "* [Ćwiczenie 60](#10)"
      ]
    },
    {
      "cell_type": "markdown",
      "metadata": {
        "id": "zeLOLmTj1kBM"
      },
      "source": [
        "### <a name='0'></a>Import biblioteki"
      ]
    },
    {
      "cell_type": "code",
      "metadata": {
        "id": "HXMB7SMe1Wnz",
        "outputId": "1158d166-24e1-4c71-d76a-6fe87f837afc",
        "colab": {
          "base_uri": "https://localhost:8080/",
          "height": 35
        }
      },
      "source": [
        "import numpy as np\n",
        "\n",
        "np.random.seed(42)\n",
        "np.__version__"
      ],
      "execution_count": 46,
      "outputs": [
        {
          "output_type": "execute_result",
          "data": {
            "application/vnd.google.colaboratory.intrinsic+json": {
              "type": "string"
            },
            "text/plain": [
              "'1.18.5'"
            ]
          },
          "metadata": {
            "tags": []
          },
          "execution_count": 46
        }
      ]
    },
    {
      "cell_type": "markdown",
      "metadata": {
        "id": "cyc70pMe1oCg"
      },
      "source": [
        "### <a name='1'></a> Ćwiczenie 51\n",
        "Podane są poniżej dwie tablice $A$ i $B$:\n",
        "\n",
        "\n",
        "```\n",
        "A = np.array([[3, 4, 5],\n",
        "              [8, 3, 1]])\n",
        "B = np.array([[0, 5, 2],\n",
        "              [4, 2, 1]])\n",
        "```\n",
        "* Połącz te tablice w następujący sposób:\n",
        "\n",
        "\n",
        "```\n",
        "array([[3, 4, 5],\n",
        "       [8, 3, 1],\n",
        "       [0, 5, 2],\n",
        "       [4, 2, 1]])\n",
        "```\n",
        "__Wskazówka:__ Wykorzystaj funkcję _np.concatenate()_.\n",
        "\n",
        "\n",
        "\n"
      ]
    },
    {
      "cell_type": "code",
      "metadata": {
        "id": "G06kZluT8eIh",
        "outputId": "9fea4396-f578-4110-fe43-87ea5b12b5fa",
        "colab": {
          "base_uri": "https://localhost:8080/",
          "height": 87
        }
      },
      "source": [
        "A = np.array([[3, 4, 5],\n",
        "              [8, 3, 1]])\n",
        "B = np.array([[0, 5, 2],\n",
        "              [4, 2, 1]])\n",
        "\n",
        "np.concatenate((A,B),axis=0)\n"
      ],
      "execution_count": 47,
      "outputs": [
        {
          "output_type": "execute_result",
          "data": {
            "text/plain": [
              "array([[3, 4, 5],\n",
              "       [8, 3, 1],\n",
              "       [0, 5, 2],\n",
              "       [4, 2, 1]])"
            ]
          },
          "metadata": {
            "tags": []
          },
          "execution_count": 47
        }
      ]
    },
    {
      "cell_type": "markdown",
      "metadata": {
        "id": "ODw_gitA98Ul"
      },
      "source": [
        "* Połącz te tablice w następujący sposób:\n",
        "\n",
        "\n",
        "```\n",
        "array([[3, 4, 5, 0, 5, 2],\n",
        "       [8, 3, 1, 4, 2, 1]])\n",
        "```\n",
        "__Wskazówka:__ Wykorzystaj funkcję _np.concatenate()_."
      ]
    },
    {
      "cell_type": "code",
      "metadata": {
        "id": "1pmGjLj88tcf",
        "outputId": "bbe5a5f4-437d-4625-c792-d28b9d2d7699",
        "colab": {
          "base_uri": "https://localhost:8080/",
          "height": 52
        }
      },
      "source": [
        "np.concatenate((A,B),axis=1)"
      ],
      "execution_count": 48,
      "outputs": [
        {
          "output_type": "execute_result",
          "data": {
            "text/plain": [
              "array([[3, 4, 5, 0, 5, 2],\n",
              "       [8, 3, 1, 4, 2, 1]])"
            ]
          },
          "metadata": {
            "tags": []
          },
          "execution_count": 48
        }
      ]
    },
    {
      "cell_type": "markdown",
      "metadata": {
        "id": "J9pY1rtr1sC0"
      },
      "source": [
        "### <a name='2'></a> Ćwiczenie 52\n",
        "Podana jest tablica zawierająca dane _data_ oraz tablica zawierająca docelową klasę dla danego wiersza _target_:\n",
        "\n",
        "```\n",
        "data = np.array([[4.3, 4.2],\n",
        "                 [3.1, 3.6]])\n",
        "target = np.array([[0],\n",
        "                   [1]])\n",
        "```\n",
        "\n"
      ]
    },
    {
      "cell_type": "markdown",
      "metadata": {
        "id": "8cAKF7ok-RjX"
      },
      "source": [
        "Połącz te tablice w jedną tak jak pokazano poniżej:\n",
        "\n",
        "\n",
        "```\n",
        "array([[4.3, 4.2, 0. ],\n",
        "       [3.1, 3.6, 1. ]])\n",
        "```\n",
        "\n"
      ]
    },
    {
      "cell_type": "code",
      "metadata": {
        "id": "4lc68Wfr8z3u",
        "outputId": "b9f224cb-f3a1-4467-aa51-6652e9b26f5d",
        "colab": {
          "base_uri": "https://localhost:8080/",
          "height": 52
        }
      },
      "source": [
        "data = np.array([[4.3, 4.2],\n",
        "                 [3.1, 3.6]])\n",
        "target = np.array([[0],\n",
        "                   [1]])\n",
        "\n",
        "np.concatenate((data,target),axis=1)"
      ],
      "execution_count": 49,
      "outputs": [
        {
          "output_type": "execute_result",
          "data": {
            "text/plain": [
              "array([[4.3, 4.2, 0. ],\n",
              "       [3.1, 3.6, 1. ]])"
            ]
          },
          "metadata": {
            "tags": []
          },
          "execution_count": 49
        }
      ]
    },
    {
      "cell_type": "markdown",
      "metadata": {
        "id": "XQLYT2m11wVG"
      },
      "source": [
        "### <a name='3'></a> Ćwiczenie 53\n",
        "Podane są trzy poniższe jednowymiarowe tablice:  \n",
        "\n",
        "\n",
        "```\n",
        "feature1 = np.array([1.6, 0.9, 2.2])\n",
        "feature2 = np.array([0.4, 1.3, 3.2])\n",
        "feature3 = np.array([1.4, 0.3, 1.2])\n",
        "```\n",
        "Przekształć każdą z tych tablic w kolumnę i sklej w jedną dużą tablicę.\n",
        "\n",
        "__Oczekiwany wynik:__\n",
        "\n",
        "\n",
        "```\n",
        "array([[1.6, 0.4, 1.4],\n",
        "       [0.9, 1.3, 0.3],\n",
        "       [2.2, 3.2, 1.2]])\n",
        "```\n",
        "\n",
        "__Wskazówka:__ Wykorzystaj funkcję _np.column_stack()_.\n",
        "\n"
      ]
    },
    {
      "cell_type": "code",
      "metadata": {
        "id": "xfPf_vq7-jBP",
        "outputId": "88a0d17b-02b5-4ef9-bf7c-5ae268c8f280",
        "colab": {
          "base_uri": "https://localhost:8080/",
          "height": 70
        }
      },
      "source": [
        "feature1 = np.array([1.6, 0.9, 2.2])\n",
        "feature2 = np.array([0.4, 1.3, 3.2])\n",
        "feature3 = np.array([1.4, 0.3, 1.2])\n",
        "\n",
        "np.column_stack((feature1,feature2,feature3))"
      ],
      "execution_count": 50,
      "outputs": [
        {
          "output_type": "execute_result",
          "data": {
            "text/plain": [
              "array([[1.6, 0.4, 1.4],\n",
              "       [0.9, 1.3, 0.3],\n",
              "       [2.2, 3.2, 1.2]])"
            ]
          },
          "metadata": {
            "tags": []
          },
          "execution_count": 50
        }
      ]
    },
    {
      "cell_type": "markdown",
      "metadata": {
        "id": "4xTKSUzg10MK"
      },
      "source": [
        "### <a name='4'></a> Ćwiczenie 54\n",
        "Podana jest poniższa dwuwymiarowa tablica:\n",
        "\n",
        "```\n",
        "A = np.random.randint(low=0, high=7, size=(5, 8))\n",
        "A[:, :2] = 0\n",
        "A[:, -2:] = 1\n",
        "A\n",
        "```\n",
        "```\n",
        "array([[0, 0, 4, 6, 2, 4, 1, 1],\n",
        "       [0, 0, 6, 2, 2, 4, 1, 1],\n",
        "       [0, 0, 1, 3, 5, 5, 1, 1],\n",
        "       [0, 0, 3, 1, 5, 4, 1, 1],\n",
        "       [0, 0, 2, 6, 1, 3, 1, 1]])\n",
        "```\n",
        "\n",
        "Podziel tablicę na 3 części tak aby pierwsze dwie kolumny stanowiły pierwszą tablicę $A1$, cztery kolejne drugą tablicę $A2$ oraz dwie ostatnie trzecią tablicę $A3$.\n",
        "\n",
        "__Wskazówka:__ Wykorzystaj funkcję _np.split()_."
      ]
    },
    {
      "cell_type": "code",
      "metadata": {
        "id": "U5MFrLUHBsEf",
        "outputId": "ea642691-0a01-43fe-f1c4-5141750385e4",
        "colab": {
          "base_uri": "https://localhost:8080/",
          "height": 105
        }
      },
      "source": [
        "A = np.random.randint(low=0, high=7, size=(5, 8))\n",
        "A[:, :2] = 0\n",
        "A[:, -2:] = 1\n",
        "A"
      ],
      "execution_count": 51,
      "outputs": [
        {
          "output_type": "execute_result",
          "data": {
            "text/plain": [
              "array([[0, 0, 4, 6, 2, 4, 1, 1],\n",
              "       [0, 0, 6, 2, 2, 4, 1, 1],\n",
              "       [0, 0, 1, 3, 5, 5, 1, 1],\n",
              "       [0, 0, 3, 1, 5, 4, 1, 1],\n",
              "       [0, 0, 2, 6, 1, 3, 1, 1]])"
            ]
          },
          "metadata": {
            "tags": []
          },
          "execution_count": 51
        }
      ]
    },
    {
      "cell_type": "code",
      "metadata": {
        "id": "ynBYBt50GsxI",
        "outputId": "ddbc432d-2421-46db-8d77-6cf43420ace2",
        "colab": {
          "base_uri": "https://localhost:8080/",
          "height": 283
        }
      },
      "source": [
        "A1, A2, A3 = np.split(A,[2,6],axis=1)\n",
        "print(A1)\n",
        "print(A2)\n",
        "print(A3)"
      ],
      "execution_count": 52,
      "outputs": [
        {
          "output_type": "stream",
          "text": [
            "[[0 0]\n",
            " [0 0]\n",
            " [0 0]\n",
            " [0 0]\n",
            " [0 0]]\n",
            "[[4 6 2 4]\n",
            " [6 2 2 4]\n",
            " [1 3 5 5]\n",
            " [3 1 5 4]\n",
            " [2 6 1 3]]\n",
            "[[1 1]\n",
            " [1 1]\n",
            " [1 1]\n",
            " [1 1]\n",
            " [1 1]]\n"
          ],
          "name": "stdout"
        }
      ]
    },
    {
      "cell_type": "markdown",
      "metadata": {
        "id": "o3HKIKlP15Ro"
      },
      "source": [
        "### <a name='5'></a> Ćwiczenie 55\n",
        "Podana jest poniższa tablica $A$:\n",
        "\n",
        "```\n",
        "A = np.random.randint(low=0, high=2, size=(10, 6))\n",
        "```\n",
        "Wyznacz łączną liczbę elementów niezerowych dla tej tablicy.\n",
        "\n",
        "__Wskazówka:__ Wykorzystaj funkcję _np.count_nonzero()_.\n"
      ]
    },
    {
      "cell_type": "code",
      "metadata": {
        "id": "j5E2nOFyDy1b",
        "outputId": "eb28ce87-3a05-4761-b795-a12e6f035304",
        "colab": {
          "base_uri": "https://localhost:8080/",
          "height": 194
        }
      },
      "source": [
        "A = np.random.randint(low=0, high=2, size=(10, 6))\n",
        "np.count_nonzero(A)\n",
        "A"
      ],
      "execution_count": 53,
      "outputs": [
        {
          "output_type": "execute_result",
          "data": {
            "text/plain": [
              "array([[1, 1, 0, 1, 0, 1],\n",
              "       [0, 1, 1, 0, 0, 0],\n",
              "       [0, 0, 0, 0, 0, 1],\n",
              "       [1, 0, 1, 1, 1, 1],\n",
              "       [0, 1, 0, 1, 1, 1],\n",
              "       [0, 1, 0, 1, 0, 1],\n",
              "       [0, 0, 1, 0, 1, 1],\n",
              "       [1, 1, 1, 1, 1, 1],\n",
              "       [1, 1, 1, 0, 0, 1],\n",
              "       [1, 1, 1, 1, 1, 1]])"
            ]
          },
          "metadata": {
            "tags": []
          },
          "execution_count": 53
        }
      ]
    },
    {
      "cell_type": "markdown",
      "metadata": {
        "id": "wJde65uYhJ2f"
      },
      "source": [
        "Wyznacz łączną liczbę elementów niezerowych dla każdego wiersza tej tablicy.\n",
        "\n",
        "__Wskazówka:__ Wykorzystaj funkcję _np.count_nonzero()_."
      ]
    },
    {
      "cell_type": "code",
      "metadata": {
        "id": "BWG-icQuEEPS",
        "outputId": "c5f152b6-de9e-4412-83fe-f92b11e75c87",
        "colab": {
          "base_uri": "https://localhost:8080/",
          "height": 34
        }
      },
      "source": [
        "np.count_nonzero(A, axis=1)"
      ],
      "execution_count": 54,
      "outputs": [
        {
          "output_type": "execute_result",
          "data": {
            "text/plain": [
              "array([4, 2, 1, 5, 4, 3, 3, 6, 4, 6])"
            ]
          },
          "metadata": {
            "tags": []
          },
          "execution_count": 54
        }
      ]
    },
    {
      "cell_type": "markdown",
      "metadata": {
        "id": "PunXd_Ey16so"
      },
      "source": [
        "### <a name='6'></a> Ćwiczenie 56\n",
        "Poniżej podana jest przykładowa tablica $A$:\n",
        "\n",
        "```\n",
        "A = np.random.randn(10, 4)\n",
        "```\n",
        "\n",
        "```\n",
        "array([[-0.53441645, -1.49505387, -0.78925833,  0.74371128],\n",
        "       [-0.21216142, -0.42686879,  0.50144833,  1.15818665],\n",
        "       [ 0.25711687,  0.3145129 ,  1.37186213,  0.17555329],\n",
        "       [-0.30928855,  0.6731255 , -0.25663018, -0.36782572],\n",
        "       [ 1.27373362, -0.29195267, -2.65517605,  0.34551794],\n",
        "       [-0.39551645, -0.28913686,  0.45293633, -0.16606091],\n",
        "       [ 0.21493883, -2.02231493, -0.94305681,  1.40395874],\n",
        "       [-0.0185508 , -1.67350462, -1.07253183, -0.99258618],\n",
        "       [ 0.10234768, -0.43260928, -0.6591823 ,  0.0039373 ],\n",
        "       [ 0.4777541 , -0.25902864, -0.57470921, -0.42149822]])\n",
        "```\n",
        "\n",
        "\n",
        "Ustaw odopowiednią opcję biblioteki numpy pozwalającą drukować tablice z określoną precyzją. Ustaw jej wartość na 4 i wydrukuj tablicę $A$.\n",
        "\n"
      ]
    },
    {
      "cell_type": "code",
      "metadata": {
        "id": "aL6C9MYSYkaL",
        "outputId": "a454ccee-1fb0-4d4a-ffa5-ad0219505c42",
        "colab": {
          "base_uri": "https://localhost:8080/",
          "height": 194
        }
      },
      "source": [
        "A = np.random.randn(10, 4)\n",
        "np.set_printoptions(precision=4)\n",
        "A"
      ],
      "execution_count": 55,
      "outputs": [
        {
          "output_type": "execute_result",
          "data": {
            "text/plain": [
              "array([[ 0.7385,  0.1714, -0.1156, -0.3011],\n",
              "       [-1.4785, -0.7198, -0.4606,  1.0571],\n",
              "       [ 0.3436, -1.763 ,  0.3241, -0.3851],\n",
              "       [-0.6769,  0.6117,  1.031 ,  0.9313],\n",
              "       [-0.8392, -0.3092,  0.3313,  0.9755],\n",
              "       [-0.4792, -0.1857, -1.1063, -1.1962],\n",
              "       [ 0.8125,  1.3562, -0.072 ,  1.0035],\n",
              "       [ 0.3616, -0.6451,  0.3614,  1.538 ],\n",
              "       [-0.0358,  1.5646, -2.6197,  0.8219],\n",
              "       [ 0.087 , -0.299 ,  0.0918, -1.9876]])"
            ]
          },
          "metadata": {
            "tags": []
          },
          "execution_count": 55
        }
      ]
    },
    {
      "cell_type": "markdown",
      "metadata": {
        "id": "hOhqDRz618Tx"
      },
      "source": [
        "### <a name='7'></a> Ćwiczenie 57\n",
        "Podana jest poniższa tablica numpy $A$:\n",
        "\n",
        "```\n",
        "A = np.array([1.2e-6, 1.7e-7])\n",
        "```\n",
        "\n",
        "Ustaw wartość precyzji na 8. Następnie ustaw odopowiednią opcję biblioteki numpy pozwalającą stłumić notację wykładniczą. Wydrukuj tablicę $A$.\n",
        "\n",
        "__Oczekiwany wynik:__\n",
        "\n",
        "\n",
        "```\n",
        "array([0.0000012 , 0.00000017])\n",
        "```\n",
        "\n",
        "\n",
        "\n"
      ]
    },
    {
      "cell_type": "code",
      "metadata": {
        "id": "BUr3XXiWdUWi",
        "outputId": "5e6bbe15-dd70-4e58-8f7a-1ae066a97ba4",
        "colab": {
          "base_uri": "https://localhost:8080/",
          "height": 34
        }
      },
      "source": [
        "A = np.array([1.2e-6, 1.7e-7])\n",
        "np.set_printoptions(precision=8, suppress=1)\n",
        "A"
      ],
      "execution_count": 56,
      "outputs": [
        {
          "output_type": "execute_result",
          "data": {
            "text/plain": [
              "array([0.0000012 , 0.00000017])"
            ]
          },
          "metadata": {
            "tags": []
          },
          "execution_count": 56
        }
      ]
    },
    {
      "cell_type": "markdown",
      "metadata": {
        "id": "TXUd_4631-gw"
      },
      "source": [
        "### <a name='8'></a> Ćwiczenie 58\n",
        "Podana jest poniższa tablica numpy $A$:\n",
        "\n",
        "```\n",
        "A = np.random.randn(8, 4)\n",
        "```\n",
        "Usuń trzecią kolumnę z tablicy $A$.\n",
        "\n",
        "__Oczekiwany wynik:__\n",
        "\n",
        "\n",
        "```\n",
        "array([[-0.55692881, -0.66003196,  0.70856031],\n",
        "       [ 0.22378737, -0.19796576, -0.16889332],\n",
        "       [ 0.26062786,  0.29865445, -0.92259267],\n",
        "       [-2.40317659,  1.79961876, -1.96495796],\n",
        "       [ 0.13051561, -1.7085185 ,  0.54885043],\n",
        "       [ 1.77268727,  0.38751181, -0.05141955],\n",
        "       [-1.80858596, -0.45075211,  0.15332866],\n",
        "       [ 1.94218961, -1.93679529, -1.83350954]])\n",
        "```\n",
        "__Wskazówka:__ Wykorzystaj funkcję _np.delete()_.\n",
        "\n",
        "\n"
      ]
    },
    {
      "cell_type": "code",
      "metadata": {
        "id": "o5PxnILogU6z",
        "outputId": "412e6a94-97c3-4169-9dd0-385a3a64136b",
        "colab": {
          "base_uri": "https://localhost:8080/",
          "height": 158
        }
      },
      "source": [
        "A = np.random.randn(8, 4)\n",
        "A"
      ],
      "execution_count": 57,
      "outputs": [
        {
          "output_type": "execute_result",
          "data": {
            "text/plain": [
              "array([[-0.21967189,  0.35711257,  1.47789404, -0.51827022],\n",
              "       [-0.8084936 , -0.50175704,  0.91540212,  0.32875111],\n",
              "       [-0.5297602 ,  0.51326743,  0.09707755,  0.96864499],\n",
              "       [-0.70205309, -0.32766215, -0.39210815, -1.46351495],\n",
              "       [ 0.29612028,  0.26105527,  0.00511346, -0.23458713],\n",
              "       [-1.41537074, -0.42064532, -0.34271452, -0.80227727],\n",
              "       [-0.16128571,  0.40405086,  1.8861859 ,  0.17457781],\n",
              "       [ 0.25755039, -0.07444592, -1.91877122, -0.02651388]])"
            ]
          },
          "metadata": {
            "tags": []
          },
          "execution_count": 57
        }
      ]
    },
    {
      "cell_type": "code",
      "metadata": {
        "id": "QrDYeO1_QbMi",
        "outputId": "83143886-f03d-45a8-b784-72584421e708",
        "colab": {
          "base_uri": "https://localhost:8080/",
          "height": 158
        }
      },
      "source": [
        "np.delete(A,2,axis=1)"
      ],
      "execution_count": 58,
      "outputs": [
        {
          "output_type": "execute_result",
          "data": {
            "text/plain": [
              "array([[-0.21967189,  0.35711257, -0.51827022],\n",
              "       [-0.8084936 , -0.50175704,  0.32875111],\n",
              "       [-0.5297602 ,  0.51326743,  0.96864499],\n",
              "       [-0.70205309, -0.32766215, -1.46351495],\n",
              "       [ 0.29612028,  0.26105527, -0.23458713],\n",
              "       [-1.41537074, -0.42064532, -0.80227727],\n",
              "       [-0.16128571,  0.40405086,  0.17457781],\n",
              "       [ 0.25755039, -0.07444592, -0.02651388]])"
            ]
          },
          "metadata": {
            "tags": []
          },
          "execution_count": 58
        }
      ]
    },
    {
      "cell_type": "markdown",
      "metadata": {
        "id": "tgI6xEn-2AQo"
      },
      "source": [
        "### <a name='9'></a> Ćwiczenie 59\n",
        "Podana jest tablica jednowymiarowa $v$ (wektor):\n",
        "\n",
        "```\n",
        "v = np.array([3, 4, -2])\n",
        "```\n",
        "Policz normę wektora $v$.\n"
      ]
    },
    {
      "cell_type": "code",
      "metadata": {
        "id": "TYPzAZCwi-Ky"
      },
      "source": [
        "v = np.array([3, 4, -2])"
      ],
      "execution_count": 59,
      "outputs": []
    },
    {
      "cell_type": "code",
      "metadata": {
        "id": "ueXfks4EQlIw",
        "outputId": "c88ccb93-b6d7-47f5-b847-261aa4b04fd4",
        "colab": {
          "base_uri": "https://localhost:8080/",
          "height": 34
        }
      },
      "source": [
        "np.linalg.norm(v)"
      ],
      "execution_count": 60,
      "outputs": [
        {
          "output_type": "execute_result",
          "data": {
            "text/plain": [
              "5.385164807134504"
            ]
          },
          "metadata": {
            "tags": []
          },
          "execution_count": 60
        }
      ]
    },
    {
      "cell_type": "markdown",
      "metadata": {
        "id": "wxhpf-uq2B1I"
      },
      "source": [
        "### <a name='10'></a> Ćwiczenie 60\n",
        "Poniżej podana jest przykładowa tablica $A$:\n",
        "\n",
        "\n",
        "```\n",
        "A = np.random.randint(10, size=(100, 30))\n",
        "```\n",
        "Ustaw odopowiednią opcję biblioteki numpy pozwalającą drukować 10 skrajnych elementów. Wydrukuj tablicę $A$.\n"
      ]
    },
    {
      "cell_type": "code",
      "metadata": {
        "id": "liJX2nIBk-gO",
        "outputId": "be9c6c3e-9c00-4213-97f6-bd4c44fcde2d",
        "colab": {
          "base_uri": "https://localhost:8080/",
          "height": 390
        }
      },
      "source": [
        "A = np.random.randint(10, size=(100, 30))\n",
        "A"
      ],
      "execution_count": 61,
      "outputs": [
        {
          "output_type": "execute_result",
          "data": {
            "text/plain": [
              "array([[0, 7, 0, 0, 1, 1, 5, 6, 4, 0, ..., 0, 5, 7, 4, 3, 1, 5, 5, 0, 8],\n",
              "       [5, 2, 3, 3, 2, 9, 2, 2, 3, 6, ..., 1, 6, 9, 2, 6, 9, 8, 3, 0, 1],\n",
              "       [0, 4, 4, 6, 8, 8, 2, 2, 2, 3, ..., 7, 3, 2, 8, 2, 8, 1, 1, 1, 5],\n",
              "       [2, 8, 3, 0, 3, 0, 4, 3, 7, 7, ..., 2, 5, 7, 1, 4, 0, 0, 4, 2, 3],\n",
              "       [2, 0, 0, 4, 5, 2, 8, 4, 7, 0, ..., 9, 5, 9, 2, 7, 7, 1, 5, 6, 1],\n",
              "       [9, 1, 9, 0, 7, 0, 8, 5, 6, 9, ..., 3, 0, 7, 2, 6, 1, 1, 6, 5, 2],\n",
              "       [8, 9, 5, 9, 9, 5, 0, 3, 9, 5, ..., 2, 6, 7, 3, 1, 9, 2, 0, 7, 2],\n",
              "       [9, 6, 9, 4, 9, 4, 6, 8, 4, 0, ..., 4, 5, 6, 2, 9, 2, 4, 5, 8, 4],\n",
              "       [0, 3, 4, 9, 9, 4, 6, 3, 0, 4, ..., 2, 9, 0, 7, 4, 3, 7, 6, 1, 0],\n",
              "       [3, 7, 1, 2, 0, 0, 2, 4, 2, 0, ..., 7, 9, 9, 9, 1, 2, 8, 6, 3, 9],\n",
              "       ...,\n",
              "       [6, 3, 5, 2, 5, 1, 7, 1, 6, 8, ..., 9, 7, 2, 9, 0, 8, 0, 2, 7, 2],\n",
              "       [3, 7, 0, 5, 0, 0, 7, 3, 0, 9, ..., 0, 8, 0, 7, 4, 2, 6, 6, 8, 6],\n",
              "       [2, 0, 7, 2, 7, 7, 4, 0, 9, 6, ..., 1, 3, 0, 3, 1, 4, 2, 7, 3, 0],\n",
              "       [0, 9, 2, 8, 6, 1, 8, 9, 1, 2, ..., 4, 1, 5, 2, 7, 1, 0, 8, 2, 0],\n",
              "       [6, 9, 4, 4, 0, 8, 6, 7, 8, 5, ..., 1, 2, 2, 8, 6, 7, 9, 8, 5, 3],\n",
              "       [0, 7, 6, 1, 7, 4, 6, 3, 4, 7, ..., 4, 7, 1, 3, 7, 5, 0, 3, 0, 1],\n",
              "       [4, 7, 7, 2, 3, 9, 5, 9, 2, 1, ..., 5, 3, 1, 8, 0, 3, 0, 5, 3, 4],\n",
              "       [4, 8, 0, 1, 5, 4, 6, 2, 2, 9, ..., 7, 2, 1, 3, 2, 0, 2, 1, 7, 5],\n",
              "       [8, 7, 9, 2, 4, 6, 4, 7, 4, 0, ..., 6, 4, 0, 7, 3, 8, 9, 5, 0, 2],\n",
              "       [2, 9, 3, 5, 6, 9, 3, 5, 0, 7, ..., 6, 2, 8, 7, 3, 0, 0, 0, 0, 7]])"
            ]
          },
          "metadata": {
            "tags": []
          },
          "execution_count": 61
        }
      ]
    },
    {
      "cell_type": "code",
      "metadata": {
        "id": "W9FTjllhQ1aH",
        "outputId": "9aca10cd-4400-4340-e1dc-83f243c284cd",
        "colab": {
          "base_uri": "https://localhost:8080/",
          "height": 390
        }
      },
      "source": [
        "np.set_printoptions(edgeitems=10)\n",
        "A"
      ],
      "execution_count": 62,
      "outputs": [
        {
          "output_type": "execute_result",
          "data": {
            "text/plain": [
              "array([[0, 7, 0, 0, 1, 1, 5, 6, 4, 0, ..., 0, 5, 7, 4, 3, 1, 5, 5, 0, 8],\n",
              "       [5, 2, 3, 3, 2, 9, 2, 2, 3, 6, ..., 1, 6, 9, 2, 6, 9, 8, 3, 0, 1],\n",
              "       [0, 4, 4, 6, 8, 8, 2, 2, 2, 3, ..., 7, 3, 2, 8, 2, 8, 1, 1, 1, 5],\n",
              "       [2, 8, 3, 0, 3, 0, 4, 3, 7, 7, ..., 2, 5, 7, 1, 4, 0, 0, 4, 2, 3],\n",
              "       [2, 0, 0, 4, 5, 2, 8, 4, 7, 0, ..., 9, 5, 9, 2, 7, 7, 1, 5, 6, 1],\n",
              "       [9, 1, 9, 0, 7, 0, 8, 5, 6, 9, ..., 3, 0, 7, 2, 6, 1, 1, 6, 5, 2],\n",
              "       [8, 9, 5, 9, 9, 5, 0, 3, 9, 5, ..., 2, 6, 7, 3, 1, 9, 2, 0, 7, 2],\n",
              "       [9, 6, 9, 4, 9, 4, 6, 8, 4, 0, ..., 4, 5, 6, 2, 9, 2, 4, 5, 8, 4],\n",
              "       [0, 3, 4, 9, 9, 4, 6, 3, 0, 4, ..., 2, 9, 0, 7, 4, 3, 7, 6, 1, 0],\n",
              "       [3, 7, 1, 2, 0, 0, 2, 4, 2, 0, ..., 7, 9, 9, 9, 1, 2, 8, 6, 3, 9],\n",
              "       ...,\n",
              "       [6, 3, 5, 2, 5, 1, 7, 1, 6, 8, ..., 9, 7, 2, 9, 0, 8, 0, 2, 7, 2],\n",
              "       [3, 7, 0, 5, 0, 0, 7, 3, 0, 9, ..., 0, 8, 0, 7, 4, 2, 6, 6, 8, 6],\n",
              "       [2, 0, 7, 2, 7, 7, 4, 0, 9, 6, ..., 1, 3, 0, 3, 1, 4, 2, 7, 3, 0],\n",
              "       [0, 9, 2, 8, 6, 1, 8, 9, 1, 2, ..., 4, 1, 5, 2, 7, 1, 0, 8, 2, 0],\n",
              "       [6, 9, 4, 4, 0, 8, 6, 7, 8, 5, ..., 1, 2, 2, 8, 6, 7, 9, 8, 5, 3],\n",
              "       [0, 7, 6, 1, 7, 4, 6, 3, 4, 7, ..., 4, 7, 1, 3, 7, 5, 0, 3, 0, 1],\n",
              "       [4, 7, 7, 2, 3, 9, 5, 9, 2, 1, ..., 5, 3, 1, 8, 0, 3, 0, 5, 3, 4],\n",
              "       [4, 8, 0, 1, 5, 4, 6, 2, 2, 9, ..., 7, 2, 1, 3, 2, 0, 2, 1, 7, 5],\n",
              "       [8, 7, 9, 2, 4, 6, 4, 7, 4, 0, ..., 6, 4, 0, 7, 3, 8, 9, 5, 0, 2],\n",
              "       [2, 9, 3, 5, 6, 9, 3, 5, 0, 7, ..., 6, 2, 8, 7, 3, 0, 0, 0, 0, 7]])"
            ]
          },
          "metadata": {
            "tags": []
          },
          "execution_count": 62
        }
      ]
    },
    {
      "cell_type": "code",
      "metadata": {
        "id": "NInzKJ3jSc5A"
      },
      "source": [
        ""
      ],
      "execution_count": 62,
      "outputs": []
    }
  ]
}
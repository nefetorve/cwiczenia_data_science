{
  "nbformat": 4,
  "nbformat_minor": 0,
  "metadata": {
    "colab": {
      "name": "031-040_exercises.ipynb",
      "provenance": [],
      "collapsed_sections": [],
      "include_colab_link": true
    },
    "kernelspec": {
      "name": "python3",
      "display_name": "Python 3"
    }
  },
  "cells": [
    {
      "cell_type": "markdown",
      "metadata": {
        "id": "view-in-github",
        "colab_type": "text"
      },
      "source": [
        "<a href=\"https://colab.research.google.com/github/nefetorve/cwiczenia_data_science/blob/master/031_040_exercises.ipynb\" target=\"_parent\"><img src=\"https://colab.research.google.com/assets/colab-badge.svg\" alt=\"Open In Colab\"/></a>"
      ]
    },
    {
      "cell_type": "markdown",
      "metadata": {
        "id": "WLEgCW5F1hho",
        "colab_type": "text"
      },
      "source": [
        "## Numpy\n",
        "\n",
        "### Spis treści:\n",
        "* [Import biblioteki](#0)\n",
        "* [Ćwiczenie 31](#1)\n",
        "* [Ćwiczenie 32](#2)\n",
        "* [Ćwiczenie 33](#3)\n",
        "* [Ćwiczenie 34](#4)\n",
        "* [Ćwiczenie 35](#5)\n",
        "* [Ćwiczenie 36](#6)\n",
        "* [Ćwiczenie 37](#7)\n",
        "* [Ćwiczenie 38](#8)\n",
        "* [Ćwiczenie 39](#9)\n",
        "* [Ćwiczenie 40](#10)"
      ]
    },
    {
      "cell_type": "markdown",
      "metadata": {
        "id": "zeLOLmTj1kBM",
        "colab_type": "text"
      },
      "source": [
        "### <a name='0'></a>Import biblioteki"
      ]
    },
    {
      "cell_type": "code",
      "metadata": {
        "id": "HXMB7SMe1Wnz",
        "colab_type": "code",
        "colab": {}
      },
      "source": [
        "import numpy as np\n",
        "\n",
        "np.__version__"
      ],
      "execution_count": null,
      "outputs": []
    },
    {
      "cell_type": "markdown",
      "metadata": {
        "id": "cyc70pMe1oCg",
        "colab_type": "text"
      },
      "source": [
        "### <a name='1'></a> Ćwiczenie 31\n",
        "Wykonaj dwa sortowania podanej poniżej tablicy $A$:\n",
        "* wierszowo (rosnąco)\n",
        "* kolumnowo (rosnąco)\n",
        "\n",
        "\n",
        "```\n",
        "A = np.array([[4.99, 3.49, 9.99],\n",
        "              [1.99, 9.99, 4.99],\n",
        "              [14.99, 2.39, 7.29]])\n",
        "```\n",
        "\n",
        "\n",
        "\n",
        "__Wskazówka:__ Użyj funkcji _np.sort()_."
      ]
    },
    {
      "cell_type": "code",
      "metadata": {
        "id": "ed-_5hm4IvnA",
        "colab_type": "code",
        "colab": {}
      },
      "source": [
        "# tutaj wpisz rozwiązanie"
      ],
      "execution_count": null,
      "outputs": []
    },
    {
      "cell_type": "markdown",
      "metadata": {
        "id": "J9pY1rtr1sC0",
        "colab_type": "text"
      },
      "source": [
        "### <a name='2'></a> Ćwiczenie 32\n",
        "Wytnij wszystkie elementy tablicy $A$ o wartości wyższej niż 8.\n",
        "\n",
        "\n",
        "```\n",
        "A = np.array([[4.99, 3.49, 9.99],\n",
        "              [1.99, 9.99, 4.99],\n",
        "              [14.99, 2.39, 7.29]])\n",
        "```\n",
        "\n"
      ]
    },
    {
      "cell_type": "code",
      "metadata": {
        "id": "15swBr0tMExC",
        "colab_type": "code",
        "colab": {}
      },
      "source": [
        "# tutaj wpisz rozwiązanie"
      ],
      "execution_count": null,
      "outputs": []
    },
    {
      "cell_type": "markdown",
      "metadata": {
        "id": "XQLYT2m11wVG",
        "colab_type": "text"
      },
      "source": [
        "### <a name='3'></a> Ćwiczenie 33\n",
        "Podana jest poniższa tablica $A$. Zastąp elementy powyżej wartości 10 wartością stałą 10 (obcięcie wartości do 10).\n",
        "\n",
        "\n",
        "```\n",
        "A = np.array([[4.99, 3.49, 9.99],\n",
        "              [1.99, 9.99, 14.99],\n",
        "              [14.99, 2.39, 7.29]])\n",
        "```\n",
        "\n",
        "\n",
        "\n",
        "__Wskazówka:__ Użyj funkcji _np.where()_."
      ]
    },
    {
      "cell_type": "code",
      "metadata": {
        "id": "1korOkbrPXC9",
        "colab_type": "code",
        "colab": {}
      },
      "source": [
        "# tutaj wpisz rozwiązanie"
      ],
      "execution_count": null,
      "outputs": []
    },
    {
      "cell_type": "markdown",
      "metadata": {
        "id": "4xTKSUzg10MK",
        "colab_type": "text"
      },
      "source": [
        "### <a name='4'></a> Ćwiczenie 34\n",
        "Poniższą dwuwymiarową tablicę $A$ przedstaw w postaci 'wypłaszczonej' jednowymiarowej tablicy.  \n",
        "\n",
        "```\n",
        "A = np.array([[4.99, 3.49, 9.99],\n",
        "              [1.99, 9.99, 14.99],\n",
        "              [14.99, 2.39, 7.29]])\n",
        "```\n",
        "\n",
        "\n",
        "\n",
        "__Oczekiwany wynik:__\n",
        "\n",
        "\n",
        "```\n",
        "array([ 4.99,  3.49,  9.99,  1.99,  9.99, 14.99, 14.99,  2.39,  7.29])\n",
        "```\n",
        "\n",
        "__Wskazówka:__ Użyj funkcji _np.ravel()_.\n",
        "\n",
        "\n"
      ]
    },
    {
      "cell_type": "code",
      "metadata": {
        "id": "COqibgznQtj0",
        "colab_type": "code",
        "colab": {}
      },
      "source": [
        "# tutaj wpisz rozwiązanie"
      ],
      "execution_count": null,
      "outputs": []
    },
    {
      "cell_type": "markdown",
      "metadata": {
        "id": "o3HKIKlP15Ro",
        "colab_type": "text"
      },
      "source": [
        "### <a name='5'></a> Ćwiczenie 35\n",
        "Zbuduj tablicę o identycznym kształcie i typie danych jak tablica $A$ oraz wypełnij ją stałą wartością 0.0.\n",
        "\n",
        "\n",
        "```\n",
        "A = np.array([[4.99, 3.49, 9.99],\n",
        "              [1.99, 9.99, 14.99],\n",
        "              [14.99, 2.39, 7.29]])\n",
        "```\n",
        "__Oczekiwany wynik:__\n",
        "\n",
        "\n",
        "```\n",
        "array([[0., 0., 0.],\n",
        "       [0., 0., 0.],\n",
        "       [0., 0., 0.]])\n",
        "```\n",
        "\n",
        "\n",
        "\n",
        "\n",
        "\n",
        "__Wskazówka:__ Użyj funkcji _np.zeros_like()_."
      ]
    },
    {
      "cell_type": "code",
      "metadata": {
        "id": "Nb5kpwa3Sh-P",
        "colab_type": "code",
        "colab": {}
      },
      "source": [
        "# tutaj wpisz rozwiązanie"
      ],
      "execution_count": null,
      "outputs": []
    },
    {
      "cell_type": "markdown",
      "metadata": {
        "id": "PunXd_Ey16so",
        "colab_type": "text"
      },
      "source": [
        "### <a name='6'></a> Ćwiczenie 36\n",
        "\n",
        "Zbuduj tablicę o identycznym kształcie i typie danych jak tablica $A$ oraz wypełnij ją stałą wartością 9.99.\n",
        "\n",
        "\n",
        "```\n",
        "A = np.array([[4.99, 3.49, 9.99],\n",
        "              [1.99, 9.99, 14.99],\n",
        "              [14.99, 2.39, 7.29]])\n",
        "```\n",
        "\n",
        "__Oczekiwany wynik:__\n",
        "\n",
        "\n",
        "```\n",
        "array([[9.99, 9.99, 9.99],\n",
        "       [9.99, 9.99, 9.99],\n",
        "       [9.99, 9.99, 9.99]])\n",
        "```\n",
        "\n",
        "\n",
        "\n",
        "__Wskazówka:__ Użyj funkcji _np.full_like()_."
      ]
    },
    {
      "cell_type": "code",
      "metadata": {
        "id": "XigJhXuPUQ4_",
        "colab_type": "code",
        "colab": {}
      },
      "source": [
        "# tutaj wpisz rozwiązanie"
      ],
      "execution_count": null,
      "outputs": []
    },
    {
      "cell_type": "markdown",
      "metadata": {
        "id": "hOhqDRz618Tx",
        "colab_type": "text"
      },
      "source": [
        "### <a name='7'></a> Ćwiczenie 37\n",
        "Zbuduj tablicę dwuwymiarową (macierz kwadratową dolną trójkątną) podnaną poniżej:\n",
        "\n",
        "\n",
        "```\n",
        "array([[1., 0., 0., 0., 0.],\n",
        "       [1., 1., 0., 0., 0.],\n",
        "       [1., 1., 1., 0., 0.],\n",
        "       [1., 1., 1., 1., 0.],\n",
        "       [1., 1., 1., 1., 1.]])\n",
        "```\n",
        "__Wskazówka:__ Użyj funkcji _np.tri()_.\n"
      ]
    },
    {
      "cell_type": "code",
      "metadata": {
        "id": "0T6tBTzeVDN7",
        "colab_type": "code",
        "colab": {}
      },
      "source": [
        "# tutaj wpisz rozwiązanie"
      ],
      "execution_count": null,
      "outputs": []
    },
    {
      "cell_type": "markdown",
      "metadata": {
        "id": "TXUd_4631-gw",
        "colab_type": "text"
      },
      "source": [
        "### <a name='8'></a> Ćwiczenie 38\n",
        "Stwórz dowolną tablicę 3-wymiarową o kształcie $(2, 3, 4)$."
      ]
    },
    {
      "cell_type": "code",
      "metadata": {
        "id": "NZoI-8PeXudZ",
        "colab_type": "code",
        "colab": {}
      },
      "source": [
        "# tutaj wpisz rozwiązanie"
      ],
      "execution_count": null,
      "outputs": []
    },
    {
      "cell_type": "markdown",
      "metadata": {
        "id": "tgI6xEn-2AQo",
        "colab_type": "text"
      },
      "source": [
        "### <a name='9'></a> Ćwiczenie 39\n",
        "\n",
        "Wygeneruj dwuwymiarową tablicę o kształcie _(200, 300)_ wypełnioną wartościami losowymi od 0 do 255 włacznie i typie danych _np.uint8_ i przypisz do zmiennej _image_."
      ]
    },
    {
      "cell_type": "code",
      "metadata": {
        "id": "4UXbFDEVZr1J",
        "colab_type": "code",
        "colab": {}
      },
      "source": [
        "# tutaj wpisz rozwiązanie"
      ],
      "execution_count": null,
      "outputs": []
    },
    {
      "cell_type": "markdown",
      "metadata": {
        "id": "nA-CIMPfbTcB",
        "colab_type": "text"
      },
      "source": [
        "Nastepnie uruchom poniższy blok kodu. W rezultacie uzyskasz podgląd na losowo wygenerowany czarno-biały obraz."
      ]
    },
    {
      "cell_type": "code",
      "metadata": {
        "id": "wga9cGARZ-3O",
        "colab_type": "code",
        "colab": {}
      },
      "source": [
        "from google.colab.patches import cv2_imshow\n",
        "\n",
        "cv2_imshow(image)"
      ],
      "execution_count": null,
      "outputs": []
    },
    {
      "cell_type": "markdown",
      "metadata": {
        "id": "wxhpf-uq2B1I",
        "colab_type": "text"
      },
      "source": [
        "### <a name='10'></a> Ćwiczenie 40\n",
        "Tablicę _image_ z poprzedniego zadania posortuj wzdłuż wiersza rosnąco. Następnie dzięki funkcji _cv2_imshow()_ wyświetl otrzymany obraz."
      ]
    },
    {
      "cell_type": "code",
      "metadata": {
        "id": "YFc0KW6URsuc",
        "colab_type": "code",
        "colab": {}
      },
      "source": [
        "# tutaj wpisz rozwiązanie"
      ],
      "execution_count": null,
      "outputs": []
    },
    {
      "cell_type": "markdown",
      "metadata": {
        "id": "RAU2F-3Mcgsr",
        "colab_type": "text"
      },
      "source": [
        "Tablicę _image_ z poprzedniego zadania posortuj wzdłuż kolumny rosnąco. Następnie dzięki funkcji _cv2_imshow()_ wyświetl otrzymany obraz."
      ]
    },
    {
      "cell_type": "code",
      "metadata": {
        "id": "EAvOxzhRbprl",
        "colab_type": "code",
        "colab": {}
      },
      "source": [
        "# tutaj wpisz rozwiązanie"
      ],
      "execution_count": null,
      "outputs": []
    }
  ]
}